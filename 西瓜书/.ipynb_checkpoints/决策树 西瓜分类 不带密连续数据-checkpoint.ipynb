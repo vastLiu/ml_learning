{
 "cells": [
  {
   "cell_type": "code",
   "execution_count": 3,
   "metadata": {
    "collapsed": true
   },
   "outputs": [],
   "source": [
    "import numpy as np\n",
    "import pandas as pd"
   ]
  },
  {
   "cell_type": "code",
   "execution_count": 4,
   "metadata": {
    "collapsed": true
   },
   "outputs": [],
   "source": [
    "\n",
    "datas = [['青绿','蜷缩','浊响','清晰','凹陷','硬滑',0.697,0.460,'是'],\n",
    "         ['乌黑','蜷缩','沉闷','清晰','凹陷','硬滑',0.774,0.376,'是'],\n",
    "         ['乌黑','蜷缩','浊响','清晰','凹陷','硬滑',0.634,0.264,'是'],\n",
    "         ['青绿','蜷缩','沉闷','清晰','凹陷','硬滑',0.608,0.318,'是'],\n",
    "         ['浅白','蜷缩','浊响','清晰','凹陷','硬滑',0.556,0.215,'是'],\n",
    "         ['青绿','稍蜷','浊响','清晰','稍凹','软粘',0.403,0.237,'是'],\n",
    "         ['乌黑','稍蜷','浊响','稍糊','稍凹','软粘',0.481,0.149,'是'],\n",
    "         ['乌黑','稍蜷','浊响','清晰','稍陷','硬滑',0.437,0.211,'是'],\n",
    "         \n",
    "         ['乌黑','稍蜷','沉闷','稍糊','稍凹','硬滑',0.666,0.091,'否'],\n",
    "         ['青绿','硬挺','清脆','清晰','平坦','软粘',0.243,0.267,'否'],\n",
    "         ['浅白','硬挺','清脆','模糊','平坦','硬滑',0.245,0.057,'否'],\n",
    "         ['浅白','蜷缩','浊响','模糊','平坦','软粘',0.343,0.099,'否'],\n",
    "         ['青绿','稍蜷','浊响','稍糊','凹陷','硬滑',0.639,0.161,'否'],\n",
    "         ['浅白','稍蜷','沉闷','稍糊','凹陷','硬滑',0.657,0.198,'否'],\n",
    "         ['乌黑','稍蜷','浊响','清晰','稍凹','软粘',0.360,0.370,'否'],\n",
    "         ['浅白','蜷缩','浊响','模糊','平坦','硬滑',0.593,0.042,'否'],\n",
    "         ['青绿','蜷缩','沉闷','稍糊','稍凹','硬滑',0.719,0.103,'否']\n",
    "        ]\n",
    "names = ['色泽','根蒂','敲声','纹理','脐部','触感','密度','含糖率','好瓜']\n",
    "datas = pd.DataFrame(datas,columns=names)"
   ]
  },
  {
   "cell_type": "code",
   "execution_count": 5,
   "metadata": {
    "collapsed": true
   },
   "outputs": [],
   "source": [
    "datas = datas.replace(['是','否'],[1,0])"
   ]
  },
  {
   "cell_type": "code",
   "execution_count": 61,
   "metadata": {
    "collapsed": true
   },
   "outputs": [],
   "source": [
    "\n",
    "def Ent(Data):\n",
    "    # 计算Data的的信息熵，统计在Data数据中的正负例的数目\n",
    "    res = 0.0\n",
    "    for i in Data['好瓜'].value_counts():\n",
    "        res += -(i/len(Data))*np.log2(i/len(Data))\n",
    "    return res\n",
    "\n",
    "\n",
    "def split_data_by_attr(Data, attr):\n",
    "    data_values = Data[attr].value_counts()\n",
    "    values = data_values.index\n",
    "    value_list = []\n",
    "    \n",
    "    for value in values:\n",
    "        value_list.append([value,[]])\n",
    "    value_dict = dict(value_list)\n",
    "    for index in range(len(Data)):\n",
    "        value_dict[Data.iloc[index][attr]].append(index) \n",
    "    return value_dict\n",
    "\n",
    "        \n",
    "        \n",
    "        \n",
    "def Gain(Data, attr):\n",
    "    #先对attr进行Data的划分\n",
    "    Ent_remain = Ent(Data)\n",
    "    data_dict = split_data_by_attr(Data, attr)\n",
    "    [len(v) for v in data_dict.values()]\n",
    "    \n",
    "    sum_num = sum([len(v) for v in data_dict.values()])\n",
    "    for k,v in data_dict.items():\n",
    "        print(Ent_remain)\n",
    "        Ent_remain -= Ent(datas.iloc[v])*len(v)/sum_num \n",
    "    \n",
    "    \n",
    "    \n",
    "#     for i in Data[attr].value_counts:\n",
    "#         dt.add()     \n",
    "    return Ent_remain\n",
    "    "
   ]
  },
  {
   "cell_type": "code",
   "execution_count": 60,
   "metadata": {},
   "outputs": [
    {
     "name": "stdout",
     "output_type": "stream",
     "text": [
      "0.997502546369\n",
      "0.592923689982\n",
      "0.380591897368\n"
     ]
    },
    {
     "data": {
      "text/plain": [
       "0.38059189736826859"
      ]
     },
     "execution_count": 60,
     "metadata": {},
     "output_type": "execute_result"
    }
   ],
   "source": [
    "Gain(datas,'纹理')"
   ]
  },
  {
   "cell_type": "code",
   "execution_count": 38,
   "metadata": {},
   "outputs": [
    {
     "name": "stdout",
     "output_type": "stream",
     "text": [
      "{'青绿': [0, 3, 5, 9, 12, 16], '乌黑': [1, 2, 6, 7, 8, 14], '浅白': [4, 10, 11, 13, 15]}\n"
     ]
    }
   ],
   "source": [
    "split_data_by_attr(datas,'色泽')\n"
   ]
  },
  {
   "cell_type": "code",
   "execution_count": 39,
   "metadata": {},
   "outputs": [
    {
     "data": {
      "text/plain": [
       "0.99750254636911528"
      ]
     },
     "execution_count": 39,
     "metadata": {},
     "output_type": "execute_result"
    }
   ],
   "source": [
    "Ent(datas)"
   ]
  },
  {
   "cell_type": "code",
   "execution_count": 53,
   "metadata": {},
   "outputs": [
    {
     "data": {
      "text/plain": [
       "6"
      ]
     },
     "execution_count": 53,
     "metadata": {},
     "output_type": "execute_result"
    }
   ],
   "source": [
    "sum([1,2,3])"
   ]
  },
  {
   "cell_type": "code",
   "execution_count": 32,
   "metadata": {},
   "outputs": [
    {
     "data": {
      "text/html": [
       "<div>\n",
       "<style scoped>\n",
       "    .dataframe tbody tr th:only-of-type {\n",
       "        vertical-align: middle;\n",
       "    }\n",
       "\n",
       "    .dataframe tbody tr th {\n",
       "        vertical-align: top;\n",
       "    }\n",
       "\n",
       "    .dataframe thead th {\n",
       "        text-align: right;\n",
       "    }\n",
       "</style>\n",
       "<table border=\"1\" class=\"dataframe\">\n",
       "  <thead>\n",
       "    <tr style=\"text-align: right;\">\n",
       "      <th></th>\n",
       "      <th>色泽</th>\n",
       "      <th>根蒂</th>\n",
       "      <th>敲声</th>\n",
       "      <th>纹理</th>\n",
       "      <th>脐部</th>\n",
       "      <th>触感</th>\n",
       "      <th>密度</th>\n",
       "      <th>含糖率</th>\n",
       "      <th>好瓜</th>\n",
       "    </tr>\n",
       "  </thead>\n",
       "  <tbody>\n",
       "    <tr>\n",
       "      <th>1</th>\n",
       "      <td>乌黑</td>\n",
       "      <td>蜷缩</td>\n",
       "      <td>沉闷</td>\n",
       "      <td>清晰</td>\n",
       "      <td>凹陷</td>\n",
       "      <td>硬滑</td>\n",
       "      <td>0.774</td>\n",
       "      <td>0.376</td>\n",
       "      <td>1</td>\n",
       "    </tr>\n",
       "    <tr>\n",
       "      <th>2</th>\n",
       "      <td>乌黑</td>\n",
       "      <td>蜷缩</td>\n",
       "      <td>浊响</td>\n",
       "      <td>清晰</td>\n",
       "      <td>凹陷</td>\n",
       "      <td>硬滑</td>\n",
       "      <td>0.634</td>\n",
       "      <td>0.264</td>\n",
       "      <td>1</td>\n",
       "    </tr>\n",
       "    <tr>\n",
       "      <th>3</th>\n",
       "      <td>青绿</td>\n",
       "      <td>蜷缩</td>\n",
       "      <td>沉闷</td>\n",
       "      <td>清晰</td>\n",
       "      <td>凹陷</td>\n",
       "      <td>硬滑</td>\n",
       "      <td>0.608</td>\n",
       "      <td>0.318</td>\n",
       "      <td>1</td>\n",
       "    </tr>\n",
       "  </tbody>\n",
       "</table>\n",
       "</div>"
      ],
      "text/plain": [
       "   色泽  根蒂  敲声  纹理  脐部  触感     密度    含糖率  好瓜\n",
       "1  乌黑  蜷缩  沉闷  清晰  凹陷  硬滑  0.774  0.376   1\n",
       "2  乌黑  蜷缩  浊响  清晰  凹陷  硬滑  0.634  0.264   1\n",
       "3  青绿  蜷缩  沉闷  清晰  凹陷  硬滑  0.608  0.318   1"
      ]
     },
     "execution_count": 32,
     "metadata": {},
     "output_type": "execute_result"
    }
   ],
   "source": [
    "datas.iloc[[1,2,3]]"
   ]
  },
  {
   "cell_type": "code",
   "execution_count": 63,
   "metadata": {
    "collapsed": true
   },
   "outputs": [],
   "source": [
    "## \n",
    "## 开始决策树的构造\n",
    "## 每一部构造，打印出叶子节点以及该叶子节点对应的属性\n",
    "# [1,[1,2],[[1,2],[3,4]]]\n",
    "\n"
   ]
  },
  {
   "cell_type": "code",
   "execution_count": null,
   "metadata": {
    "collapsed": true
   },
   "outputs": [],
   "source": []
  }
 ],
 "metadata": {
  "kernelspec": {
   "display_name": "Python 3",
   "language": "python",
   "name": "python3"
  },
  "language_info": {
   "codemirror_mode": {
    "name": "ipython",
    "version": 3
   },
   "file_extension": ".py",
   "mimetype": "text/x-python",
   "name": "python",
   "nbconvert_exporter": "python",
   "pygments_lexer": "ipython3",
   "version": "3.6.3"
  }
 },
 "nbformat": 4,
 "nbformat_minor": 2
}

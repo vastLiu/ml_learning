{
 "cells": [
  {
   "cell_type": "markdown",
   "metadata": {},
   "source": [
    "# 聚类算法总结"
   ]
  },
  {
   "cell_type": "markdown",
   "metadata": {},
   "source": [
    "一般聚类算法分为：层次聚类，凝聚-分裂聚类，burch聚类"
   ]
  },
  {
   "cell_type": "markdown",
   "metadata": {},
   "source": [
    "## K-means 算法"
   ]
  },
  {
   "cell_type": "code",
   "execution_count": 240,
   "metadata": {},
   "outputs": [],
   "source": [
    "import numpy as np\n",
    "import pandas as pd\n",
    "import random\n",
    "import math\n",
    "import matplotlib as mpl\n",
    "import matplotlib.pyplot as plt\n",
    "import sklearn \n",
    "from sklearn.cluster import KMeans\n",
    "#1. 聚类首先第一步，构建训练样本点\n",
    "\n",
    "%matplotlib tk\n",
    "\n",
    "# python 随机数的生成\n",
    "# 构建6个簇\n",
    "# 在100*200的坐标中绘制出这6个簇的数据\n",
    "random.seed(66)\n",
    "datas = []\n",
    "# 第一个簇：20,10\n",
    "def generate_datas(num = 1000):\n",
    "    y = []\n",
    "    \n",
    "    for i in range(300):\n",
    "        datas.append([random.gauss(10,5),random.gauss(5,5)])\n",
    "        y.append(0)\n",
    "        \n",
    "    for i in range(200):\n",
    "        datas.append([random.gauss(50,6),random.gauss(25,7)])\n",
    "        y.append(1)\n",
    "    \n",
    "    for i in range(200):\n",
    "        datas.append([random.triangular(10,30),random.gauss(30,3)])\n",
    "        y.append(2)\n",
    "    \n",
    "    for i in range(300):\n",
    "        datas.append([random.triangular(50,60),random.gauss(60,3)])\n",
    "        y.append(3)\n",
    "   \n",
    "    \n",
    "    for i in range(200):\n",
    "        datas.append([random.gauss(30,5),random.gauss(60,3)])\n",
    "        y.append(4)\n",
    "        \n",
    "    for i in range(300):\n",
    "        datas.append([random.triangular(80,120),random.gauss(50,10)])\n",
    "        y.append(5)\n",
    "    return datas, y\n",
    "\n",
    "def plot_cluster(datas, y):\n",
    "    cm = list('rgbmyc')\n",
    "    for i in range(len(datas)):\n",
    "        plt.plot(datas[i][0],datas[i][1],cm[y[i]]+'o')\n",
    "        \n",
    "datas, y1 = generate_datas()\n"
   ]
  },
  {
   "cell_type": "code",
   "execution_count": null,
   "metadata": {},
   "outputs": [],
   "source": []
  },
  {
   "cell_type": "code",
   "execution_count": 234,
   "metadata": {},
   "outputs": [
    {
     "data": {
      "text/plain": [
       "[[27.002044539016023, 62.23175210322561],\n",
       " [5.154531745707695, 9.099958332526793]]"
      ]
     },
     "execution_count": 234,
     "metadata": {},
     "output_type": "execute_result"
    }
   ],
   "source": [
    "#2.2随机选择k个初始数据中心，并且不断迭代\n",
    "# 使用k_meansII算法找到6个初始样本中心\n",
    "# 算法：随机选取5个样本点\n",
    "random.choices(datas,k=2)"
   ]
  },
  {
   "cell_type": "code",
   "execution_count": 235,
   "metadata": {},
   "outputs": [],
   "source": [
    "# random.seed(1)\n",
    "def init_k_points(data, k):\n",
    "    points = []\n",
    "    for i in range(5):\n",
    "        for j in range(k):\n",
    "            points.append(random.choice(data))\n",
    "    # point含有5*k个点，在这5*k个点中找出k个点作为初始中心点，找的方式通过k-means方法来找到k个簇的聚类中心\n",
    "    k_means(points,points[:6],0)\n",
    "    return points\n",
    "\n",
    "def cal_distance(data1, data2):\n",
    "    return math.sqrt((data1[0]-data2[0])**2 + (data1[1]-data2[1])**2)\n",
    "    \n",
    "def k_means(data, k_datas=[], k = 6):\n",
    "    if len(k_datas) == 0:\n",
    "        k_datas = init_k_points(data, k)\n",
    "        k_means(data, k_datas, k)\n",
    "    #设置迭代次数 iter_num = 100\n",
    "    #设置中心点位置变化率 err = 1e3\n",
    "    #设置簇类中的类别的变化 change = False\n",
    "    #上述三个满足其一即可退出循环\n",
    "    iter_num = 0\n",
    "    err = 100\n",
    "    change = True\n",
    "    \n",
    "    clusters = [[]]*6\n",
    "    clusters = [ [data] for data in datas[:5]]\n",
    "    clusters[-1] = datas[5:]\n",
    "    \n",
    "    while iter_num < 10 and err >1e-3 and change != False:\n",
    "        #遍历簇\n",
    "        for data in range(len(datas)):\n",
    "            #遍历每个簇的点\n",
    "            for index in range(len(k_datas)):\n",
    "                nice_center_point_index = 0\n",
    "                tiny_distance = 1e4\n",
    "                \n",
    "                for i in range(len(k_datas)):\n",
    "                    dist = cal_distance(data, k_datas[i])\n",
    "                if  dist < tiny_distance:\n",
    "                    tiny_distance = dist\n",
    "                    nice_center_point_index = i\n",
    "                    print(nice_center_point_index)\n",
    "                print(clusters)\n",
    "                clusters[nice_center_point_index].append(data)\n",
    "                print(clusters)\n",
    "        #计算中心点\n",
    "        for i in range(len(clusters)):\n",
    "            center_x = 0.0\n",
    "            center_y = 0.0\n",
    "            for j in range(len(clusters[i])):\n",
    "                center_x += clusters[i][0]\n",
    "                center_y += clusters[i][1]\n",
    "            k_datas[i] = [center_x/len(clusters[i]),center_y/len(clusters)]\n",
    "                \n",
    "            \n",
    "                    \n",
    "                \n",
    "    \n",
    "    \n",
    "    \n",
    "    "
   ]
  },
  {
   "cell_type": "code",
   "execution_count": null,
   "metadata": {
    "collapsed": true
   },
   "outputs": [],
   "source": []
  },
  {
   "cell_type": "code",
   "execution_count": 236,
   "metadata": {},
   "outputs": [],
   "source": [
    "km = KMeans(n_clusters = 6, init='k-means++', max_iter=100, tol = 1e-4)\n",
    "km.fit(datas)\n",
    "y = km.predict(datas)"
   ]
  },
  {
   "cell_type": "code",
   "execution_count": 237,
   "metadata": {},
   "outputs": [
    {
     "name": "stdout",
     "output_type": "stream",
     "text": [
      "所有样本距离所属簇中心点的总距离和为:98034.49474\n",
      "所有样本距离所属簇中心点的平均距离为:65.35633\n",
      "所有的中心点聚类中心坐标:\n",
      "[[ 20.48544509  29.62055902]\n",
      " [ 54.91985378  59.76423226]\n",
      " [ 99.31575874  50.13239448]\n",
      " [  9.97976343   5.01808335]\n",
      " [ 50.0396447   24.85738392]\n",
      " [ 29.7403624   59.98771386]]\n",
      "score其实就是所有样本点离所属簇中心点距离和的相反数:\n",
      "-98034.4947388\n"
     ]
    }
   ],
   "source": [
    "print(\"所有样本距离所属簇中心点的总距离和为:%.5f\" % km.inertia_)\n",
    "print(\"所有样本距离所属簇中心点的平均距离为:%.5f\" % (km.inertia_ / len(datas)))\n",
    "\n",
    "print(\"所有的中心点聚类中心坐标:\")\n",
    "cluter_centers = km.cluster_centers_\n",
    "print(cluter_centers)\n",
    "\n",
    "print(\"score其实就是所有样本点离所属簇中心点距离和的相反数:\")\n",
    "print(km.score(datas))"
   ]
  },
  {
   "cell_type": "code",
   "execution_count": 238,
   "metadata": {},
   "outputs": [
    {
     "name": "stdout",
     "output_type": "stream",
     "text": [
      "['r', 'g', 'b', 'm', 'y', 'c']\n",
      "[3 3 3 ..., 2 2 2]\n"
     ]
    },
    {
     "data": {
      "image/png": "[encoded data removed]",
      "text/plain": [
       "<matplotlib.figure.Figure at 0x21182c2ae10>"
      ]
     },
     "metadata": {},
     "output_type": "display_data"
    }
   ],
   "source": [
    "# 画图\n",
    "cm = list('rgbmyc')\n",
    "print(cm)\n",
    "print(y)\n",
    "for index in range(len(datas)):\n",
    "    plt.plot(datas[index][0], datas[index][1], cm[y[index]]+'o')\n"
   ]
  },
  {
   "cell_type": "code",
   "execution_count": 239,
   "metadata": {},
   "outputs": [
    {
     "data": {
      "image/png": "[encoded data removed]",
      "text/plain": [
       "<matplotlib.figure.Figure at 0x21182c2aac8>"
      ]
     },
     "metadata": {},
     "output_type": "display_data"
    }
   ],
   "source": [
    "plot_cluster(datas, y1)"
   ]
  },
  {
   "cell_type": "code",
   "execution_count": 158,
   "metadata": {},
   "outputs": [
    {
     "data": {
      "text/plain": [
       "[[[29.627977225182306, 53.16721557443115]],\n",
       " [[11.91846845427817, 8.981726070251828]],\n",
       " [[7.405005661330953, 4.503490989605696]],\n",
       " [[100.29171776018127, 55.178736947152956]],\n",
       " [[98.04012773931296, 58.12745736601538]]]"
      ]
     },
     "execution_count": 158,
     "metadata": {},
     "output_type": "execute_result"
    }
   ],
   "source": [
    "cluster = [[]]*6\n",
    "cluster[1] = 2\n",
    "cluster[3] = [3,2]\n",
    "cluster[3].append([2,3])\n",
    "cluster[4].append([3,1])\n",
    "clusters\n"
   ]
  },
  {
   "cell_type": "code",
   "execution_count": 159,
   "metadata": {},
   "outputs": [
    {
     "data": {
      "image/png": "[encoded data removed]",
      "text/plain": [
       "<matplotlib.figure.Figure at 0x211e43b05f8>"
      ]
     },
     "metadata": {},
     "output_type": "display_data"
    }
   ],
   "source": [
    "%matplotlib inline\n",
    "plt.figure(figsize=(4,4))\n",
    "plt.ylim =(0,1)\n",
    "for i in range(10):\n",
    "    #对称分布？\n",
    "    y = random.triangular()\n",
    "    plt.plot(i,y,'ro')\n"
   ]
  },
  {
   "cell_type": "code",
   "execution_count": 160,
   "metadata": {},
   "outputs": [
    {
     "data": {
      "image/png": "[encoded data removed]",
      "text/plain": [
       "<matplotlib.figure.Figure at 0x211e606e6d8>"
      ]
     },
     "metadata": {},
     "output_type": "display_data"
    }
   ],
   "source": [
    "%matplotlib inline\n",
    "plt.figure(figsize=(5,5))\n",
    "plt.ylim =(0,1)\n",
    "for i in range(100):\n",
    "    #beta分布\n",
    "    y = random.betavariate(0.3,0.3)\n",
    "    plt.plot(i,y,'ro')"
   ]
  },
  {
   "cell_type": "code",
   "execution_count": 161,
   "metadata": {},
   "outputs": [
    {
     "data": {
      "image/png": "[encoded data removed]",
      "text/plain": [
       "<matplotlib.figure.Figure at 0x211e7b8ea90>"
      ]
     },
     "metadata": {},
     "output_type": "display_data"
    }
   ],
   "source": [
    "%matplotlib inline\n",
    "plt.figure(figsize=(5,5))\n",
    "plt.ylim =(0,1)\n",
    "for i in range(100):   \n",
    "    #指数分布\n",
    "    y = random.expovariate(0.3)\n",
    "    plt.plot(i,y,'ro')"
   ]
  },
  {
   "cell_type": "code",
   "execution_count": 162,
   "metadata": {},
   "outputs": [
    {
     "data": {
      "image/png": "[encoded data removed]",
      "text/plain": [
       "<matplotlib.figure.Figure at 0x211800a02e8>"
      ]
     },
     "metadata": {},
     "output_type": "display_data"
    }
   ],
   "source": [
    "%matplotlib inline\n",
    "plt.figure(figsize=(5,5))\n",
    "plt.ylim =(0,1)\n",
    "for i in range(100):   \n",
    "    #指数分布\n",
    "    y = random.gauss(1,0.1)\n",
    "    plt.plot(i,y,'ro')"
   ]
  },
  {
   "cell_type": "code",
   "execution_count": null,
   "metadata": {
    "collapsed": true
   },
   "outputs": [],
   "source": []
  }
 ],
 "metadata": {
  "kernelspec": {
   "display_name": "Python 3",
   "language": "python",
   "name": "python3"
  },
  "language_info": {
   "codemirror_mode": {
    "name": "ipython",
    "version": 3
   },
   "file_extension": ".py",
   "mimetype": "text/x-python",
   "name": "python",
   "nbconvert_exporter": "python",
   "pygments_lexer": "ipython3",
   "version": "3.6.3"
  }
 },
 "nbformat": 4,
 "nbformat_minor": 2
}

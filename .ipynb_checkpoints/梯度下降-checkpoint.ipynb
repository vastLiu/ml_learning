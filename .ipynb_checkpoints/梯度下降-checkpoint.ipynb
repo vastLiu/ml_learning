{
 "cells": [
  {
   "cell_type": "code",
   "execution_count": null,
   "metadata": {
    "collapsed": true
   },
   "outputs": [],
   "source": [
    "## 原函数\n",
    "def f(x):\n",
    "    return x**2\n",
    "\n",
    "def h(x):\n",
    "    return 2*x\n",
    "\n",
    "X = []\n",
    "Y = []\n",
    "\n",
    "x0 = 4\n",
    "step = 0.5\n",
    "\n",
    "f_change = f(x0)\n",
    "f_current = f_change\n",
    "X.append(x0)\n",
    "Y.append(f_current)\n",
    "while f_change > 1e-10:\n",
    "    "
   ]
  }
 ],
 "metadata": {
  "kernelspec": {
   "display_name": "Python 3",
   "language": "python",
   "name": "python3"
  },
  "language_info": {
   "codemirror_mode": {
    "name": "ipython",
    "version": 3
   },
   "file_extension": ".py",
   "mimetype": "text/x-python",
   "name": "python",
   "nbconvert_exporter": "python",
   "pygments_lexer": "ipython3",
   "version": "3.6.3"
  }
 },
 "nbformat": 4,
 "nbformat_minor": 2
}
